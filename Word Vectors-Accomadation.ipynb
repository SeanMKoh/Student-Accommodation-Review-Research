{
 "cells": [
  {
   "cell_type": "code",
   "execution_count": 43,
   "id": "9b8ba085",
   "metadata": {},
   "outputs": [],
   "source": [
    "import pandas as pd\n",
    "import numpy as np\n",
    "import matplotlib.pyplot as plt\n",
    "import gensim\n",
    "import gensim.downloader\n",
    "import scipy "
   ]
  },
  {
   "cell_type": "code",
   "execution_count": 2,
   "id": "784dcc4f",
   "metadata": {},
   "outputs": [],
   "source": [
    "vectors = gensim.downloader.load('glove-wiki-gigaword-300')"
   ]
  },
  {
   "cell_type": "code",
   "execution_count": 13,
   "id": "c35be476",
   "metadata": {},
   "outputs": [
    {
     "data": {
      "text/html": [
       "<div>\n",
       "<style scoped>\n",
       "    .dataframe tbody tr th:only-of-type {\n",
       "        vertical-align: middle;\n",
       "    }\n",
       "\n",
       "    .dataframe tbody tr th {\n",
       "        vertical-align: top;\n",
       "    }\n",
       "\n",
       "    .dataframe thead th {\n",
       "        text-align: right;\n",
       "    }\n",
       "</style>\n",
       "<table border=\"1\" class=\"dataframe\">\n",
       "  <thead>\n",
       "    <tr style=\"text-align: right;\">\n",
       "      <th></th>\n",
       "      <th>Accom</th>\n",
       "      <th>Review</th>\n",
       "    </tr>\n",
       "  </thead>\n",
       "  <tbody>\n",
       "    <tr>\n",
       "      <th>0</th>\n",
       "      <td>iQ Weaver Place</td>\n",
       "      <td>IQ weaver place has been an amazing place to r...</td>\n",
       "    </tr>\n",
       "    <tr>\n",
       "      <th>1</th>\n",
       "      <td>Julian Court</td>\n",
       "      <td>I am living in classic studio with a window fa...</td>\n",
       "    </tr>\n",
       "    <tr>\n",
       "      <th>2</th>\n",
       "      <td>Julian Court</td>\n",
       "      <td>I have a very nice experience staying in Julia...</td>\n",
       "    </tr>\n",
       "    <tr>\n",
       "      <th>3</th>\n",
       "      <td>Julian Court</td>\n",
       "      <td>As a self-contained studio apartment, Julian C...</td>\n",
       "    </tr>\n",
       "    <tr>\n",
       "      <th>4</th>\n",
       "      <td>Julian Court</td>\n",
       "      <td>I like the young lady in reception, she is alw...</td>\n",
       "    </tr>\n",
       "  </tbody>\n",
       "</table>\n",
       "</div>"
      ],
      "text/plain": [
       "             Accom                                             Review\n",
       "0  iQ Weaver Place  IQ weaver place has been an amazing place to r...\n",
       "1     Julian Court  I am living in classic studio with a window fa...\n",
       "2     Julian Court  I have a very nice experience staying in Julia...\n",
       "3     Julian Court  As a self-contained studio apartment, Julian C...\n",
       "4     Julian Court  I like the young lady in reception, she is alw..."
      ]
     },
     "execution_count": 13,
     "metadata": {},
     "output_type": "execute_result"
    }
   ],
   "source": [
    "df_raw = pd.read_csv(\"https://raw.githubusercontent.com/SeanMKoh/Student-Accommodation-Review-Research/main/AccomReviewSample.csv\", index_col=0)\n",
    "df_raw.drop_duplicates(subset=['Review'], inplace=True)\n",
    "df_raw.head()"
   ]
  },
  {
   "cell_type": "code",
   "execution_count": 14,
   "id": "8626eeed",
   "metadata": {},
   "outputs": [
    {
     "data": {
      "text/html": [
       "<div>\n",
       "<style scoped>\n",
       "    .dataframe tbody tr th:only-of-type {\n",
       "        vertical-align: middle;\n",
       "    }\n",
       "\n",
       "    .dataframe tbody tr th {\n",
       "        vertical-align: top;\n",
       "    }\n",
       "\n",
       "    .dataframe thead th {\n",
       "        text-align: right;\n",
       "    }\n",
       "</style>\n",
       "<table border=\"1\" class=\"dataframe\">\n",
       "  <thead>\n",
       "    <tr style=\"text-align: right;\">\n",
       "      <th></th>\n",
       "      <th>Review</th>\n",
       "      <th>Nouns</th>\n",
       "    </tr>\n",
       "  </thead>\n",
       "  <tbody>\n",
       "    <tr>\n",
       "      <th>0</th>\n",
       "      <td>iq weaver place has been an amazing place to r...</td>\n",
       "      <td>['iq', 'weaver', 'place', 'place', 'while']</td>\n",
       "    </tr>\n",
       "    <tr>\n",
       "      <th>1</th>\n",
       "      <td>moved here in september and spent most of lock...</td>\n",
       "      <td>['lockdown', 'space']</td>\n",
       "    </tr>\n",
       "    <tr>\n",
       "      <th>2</th>\n",
       "      <td>amazing on site staff who are always ready and...</td>\n",
       "      <td>['site', 'staff', 'type', 'assistance']</td>\n",
       "    </tr>\n",
       "    <tr>\n",
       "      <th>3</th>\n",
       "      <td>would definitely recommend staying here for un...</td>\n",
       "      <td>['students', 'book', 'accommodation']</td>\n",
       "    </tr>\n",
       "    <tr>\n",
       "      <th>4</th>\n",
       "      <td>i am living in classic studio with a window fa...</td>\n",
       "      <td>['i', 'studio', 'window', 'facing']</td>\n",
       "    </tr>\n",
       "  </tbody>\n",
       "</table>\n",
       "</div>"
      ],
      "text/plain": [
       "                                              Review  \\\n",
       "0  iq weaver place has been an amazing place to r...   \n",
       "1  moved here in september and spent most of lock...   \n",
       "2  amazing on site staff who are always ready and...   \n",
       "3  would definitely recommend staying here for un...   \n",
       "4  i am living in classic studio with a window fa...   \n",
       "\n",
       "                                         Nouns  \n",
       "0  ['iq', 'weaver', 'place', 'place', 'while']  \n",
       "1                        ['lockdown', 'space']  \n",
       "2      ['site', 'staff', 'type', 'assistance']  \n",
       "3        ['students', 'book', 'accommodation']  \n",
       "4          ['i', 'studio', 'window', 'facing']  "
      ]
     },
     "execution_count": 14,
     "metadata": {},
     "output_type": "execute_result"
    }
   ],
   "source": [
    "df_pro = pd.read_csv(\"https://raw.githubusercontent.com/SeanMKoh/Student-Accommodation-Review-Research/main/WordTagging.csv\", index_col=0)\n",
    "df_pro.drop_duplicates(subset=['Review'], inplace=True)\n",
    "df_pro.head()"
   ]
  },
  {
   "cell_type": "code",
   "execution_count": 231,
   "id": "cc48cc2e",
   "metadata": {},
   "outputs": [],
   "source": [
    "cat_list = ['space', \n",
    "            'personnel',\n",
    "            'social',\n",
    "            'cleanliness',\n",
    "            'distance'\n",
    "           ]\n",
    "cat_vector_list = []\n",
    "for i in cat_list:\n",
    "    cat_vector_list.append(vectors[i])"
   ]
  },
  {
   "cell_type": "code",
   "execution_count": 4,
   "id": "8fc50d9b",
   "metadata": {},
   "outputs": [
    {
     "data": {
      "text/plain": [
       "1"
      ]
     },
     "execution_count": 4,
     "metadata": {},
     "output_type": "execute_result"
    }
   ],
   "source": [
    "def vector_difference(a,b):\n",
    "    c = [a_i - b_i for a_i, b_i in zip(a, b)]\n",
    "    return sum(i*i*i*i for i in c)\n",
    "vector_difference([0,1], [0,2])"
   ]
  },
  {
   "cell_type": "code",
   "execution_count": 5,
   "id": "4d438472",
   "metadata": {},
   "outputs": [
    {
     "name": "stdout",
     "output_type": "stream",
     "text": [
      "[0, 3]\n"
     ]
    }
   ],
   "source": [
    "def vector_add(a,b):\n",
    "    return [a_i + b_i for a_i, b_i in zip(a, b)]\n",
    "print(vector_add([0,1], [0,2]))"
   ]
  },
  {
   "cell_type": "code",
   "execution_count": 6,
   "id": "e92cc2db",
   "metadata": {},
   "outputs": [],
   "source": [
    "#One word input\n",
    "def get_cat(word):\n",
    "    vector_diff_list = []\n",
    "    word_vector = vectors[word]\n",
    "    for i in cat_vector_list:\n",
    "        #Get sum of squared differences\n",
    "        vector_diff_list.append(vector_difference(word_vector, i))\n",
    "    #Get index of cat_vector with least difference\n",
    "    min_index = vector_diff_list.index(min(vector_diff_list))\n",
    "    return cat_list[min_index]"
   ]
  },
  {
   "cell_type": "code",
   "execution_count": 7,
   "id": "05a58672",
   "metadata": {},
   "outputs": [],
   "source": [
    "#Multiple word input\n",
    "def get_cat_phrase(phrase):\n",
    "    word_list = phrase.split()\n",
    "    vector_diff_list = []\n",
    "    number_of_valid_words = 0\n",
    "    for i in range(len(word_list)):\n",
    "        word = word_list[i]\n",
    "        try:\n",
    "            word_vector = vectors[word]\n",
    "            number_of_valid_words += 1\n",
    "        except:\n",
    "            continue\n",
    "        \n",
    "        for j in range(len(cat_vector_list)):\n",
    "            cat_vector = cat_vector_list[j]\n",
    "            \n",
    "            #Get sum of differences\n",
    "            if number_of_valid_words == 1:\n",
    "                vector_diff_list.append(vector_difference(word_vector, cat_vector))\n",
    "            else:\n",
    "                vector_diff_list[j] += vector_difference(word_vector, cat_vector)\n",
    "    #Get index of cat_vector with least difference\n",
    "    min_index = vector_diff_list.index(min(vector_diff_list))\n",
    "    return cat_list[min_index]"
   ]
  },
  {
   "cell_type": "code",
   "execution_count": 33,
   "id": "aff27ec5",
   "metadata": {
    "scrolled": true
   },
   "outputs": [
    {
     "data": {
      "text/plain": [
       "'cleanliness'"
      ]
     },
     "execution_count": 33,
     "metadata": {},
     "output_type": "execute_result"
    }
   ],
   "source": [
    "get_cat_phrase(\"toilet\")"
   ]
  },
  {
   "cell_type": "code",
   "execution_count": 57,
   "id": "254d33ec",
   "metadata": {},
   "outputs": [],
   "source": [
    "def get_word_difference(word1, word2):\n",
    "    return scipy.spatial.distance.cosine(vectors[word1],vectors[word2])"
   ]
  },
  {
   "cell_type": "code",
   "execution_count": 141,
   "id": "38c056b3",
   "metadata": {},
   "outputs": [],
   "source": [
    "import math\n",
    "def get_word_similarity(word1, word2):\n",
    "    diff = get_word_difference(word1, word2)\n",
    "    return math.exp(-2*diff)"
   ]
  },
  {
   "cell_type": "code",
   "execution_count": 142,
   "id": "4849fd40",
   "metadata": {},
   "outputs": [
    {
     "data": {
      "text/plain": [
       "0.9801906608045101"
      ]
     },
     "execution_count": 142,
     "metadata": {},
     "output_type": "execute_result"
    }
   ],
   "source": [
    "get_word_difference(\"student\", \"boris\")"
   ]
  },
  {
   "cell_type": "code",
   "execution_count": 176,
   "id": "c74603e8",
   "metadata": {},
   "outputs": [
    {
     "data": {
      "text/plain": [
       "1.0"
      ]
     },
     "execution_count": 176,
     "metadata": {},
     "output_type": "execute_result"
    }
   ],
   "source": [
    "get_word_similarity(\"student\", \"student\")"
   ]
  },
  {
   "cell_type": "code",
   "execution_count": 70,
   "id": "a1864d0a",
   "metadata": {},
   "outputs": [
    {
     "data": {
      "text/plain": [
       "str"
      ]
     },
     "execution_count": 70,
     "metadata": {},
     "output_type": "execute_result"
    }
   ],
   "source": [
    "type(df_pro['Nouns'][0])"
   ]
  },
  {
   "cell_type": "code",
   "execution_count": 126,
   "id": "e28cfac3",
   "metadata": {},
   "outputs": [
    {
     "ename": "AttributeError",
     "evalue": "'list' object has no attribute 'divide'",
     "output_type": "error",
     "traceback": [
      "\u001b[1;31m---------------------------------------------------------------------------\u001b[0m",
      "\u001b[1;31mAttributeError\u001b[0m                            Traceback (most recent call last)",
      "\u001b[1;32m<ipython-input-126-0932f925f48f>\u001b[0m in \u001b[0;36m<module>\u001b[1;34m\u001b[0m\n\u001b[1;32m----> 1\u001b[1;33m \u001b[0msum\u001b[0m\u001b[1;33m(\u001b[0m\u001b[1;33m[\u001b[0m\u001b[1;36m1\u001b[0m\u001b[1;33m,\u001b[0m\u001b[1;36m2\u001b[0m\u001b[1;33m,\u001b[0m\u001b[1;36m3\u001b[0m\u001b[1;33m]\u001b[0m\u001b[1;33m.\u001b[0m\u001b[0mdivide\u001b[0m\u001b[1;33m(\u001b[0m\u001b[1;36m6\u001b[0m\u001b[1;33m)\u001b[0m\u001b[1;33m)\u001b[0m\u001b[1;33m\u001b[0m\u001b[1;33m\u001b[0m\u001b[0m\n\u001b[0m",
      "\u001b[1;31mAttributeError\u001b[0m: 'list' object has no attribute 'divide'"
     ]
    }
   ],
   "source": [
    "sum([1,2,3].divide(6))"
   ]
  },
  {
   "cell_type": "code",
   "execution_count": 232,
   "id": "f69eb62e",
   "metadata": {},
   "outputs": [
    {
     "data": {
      "text/plain": [
       "[[0.5027220146187072, 0, 0.26794897042791166, 0, 0.2696445559596108],\n",
       " [1.0, 0, 0, 0, 0],\n",
       " [0, 0.8324387540330229, 0.2796058778200253, 0, 0],\n",
       " [0, 0.2522576142741331, 0.28613042315504916, 0, 0],\n",
       " [0.5140339262401683, 0, 0, 0, 0],\n",
       " [1.2961738997816923, 0, 0, 0, 0],\n",
       " [0.25421342641102884, 0, 0, 0, 0],\n",
       " [1.0, 0, 0, 0, 0],\n",
       " [0.2892717069064972, 0, 0.25843665821612355, 0, 0.3189868992847883],\n",
       " [0.25217264666663874, 0, 0.30414143566677626, 0, 0],\n",
       " [0, 0, 0, 0, 0],\n",
       " [0, 0, 0, 0, 0],\n",
       " [0, 0, 0, 0, 0],\n",
       " [0.25376079120883127, 0, 0, 0, 0.28390724140821094],\n",
       " [0.5309025582027374, 0, 0.6364201488810952, 0, 0.2556428678438321],\n",
       " [0.25707303796780484, 0, 0.3028610395488392, 0, 0],\n",
       " [0.28210454829698395, 0, 0, 0, 0],\n",
       " [0.26049706022822244, 0, 0, 0, 0],\n",
       " [0, 0, 0.2555957730625951, 0, 0.263515015831121],\n",
       " [0, 0.496338724228668, 0, 0, 0],\n",
       " [0.5297798985459325, 0, 0.6349950187067266, 0, 0],\n",
       " [1.0, 0, 0, 0, 0],\n",
       " [0.5081057999443703, 0, 0.25996542120817223, 0, 0],\n",
       " [0, 0.2979909306838254, 0.2654795481935543, 0, 0.26998294048850185],\n",
       " [0, 0, 0, 0, 0],\n",
       " [0, 0.2979909306838254, 0.2654795481935543, 0, 0.5318821541679564],\n",
       " [0.25707303796780484, 0, 0.5684509026403903, 0, 0],\n",
       " [0, 0.2522576142741331, 0.28613042315504916, 0, 0],\n",
       " [0.29617389978169234, 0, 0, 0, 0],\n",
       " [0.29617389978169234, 0, 0, 0, 0.2516389773780043],\n",
       " [0.25217264666663874, 0, 0.30414143566677626, 0, 0],\n",
       " [0, 0, 0.2655898630915511, 0, 0],\n",
       " [0.5152687355924146, 0, 0.8675628595025855, 0, 0],\n",
       " [0, 0.8090146330652066, 0.28131567997558926, 0, 0],\n",
       " [0, 0, 0, 0, 0],\n",
       " [0, 0.496338724228668, 0, 0, 0],\n",
       " [0, 0, 0.27705820395373293, 0, 0],\n",
       " [0, 0, 0, 0, 0],\n",
       " [0, 0.30628913089851323, 0, 0, 0],\n",
       " [0.25578335048814593, 0.2681132346127357, 0.30906307622139684, 0, 0],\n",
       " [0.2513610073093536, 0, 0, 0, 0],\n",
       " [0.5519572502698382, 0.2681132346127357, 0.30906307622139684, 0, 0],\n",
       " [0, 0, 0, 0, 0],\n",
       " [0, 0, 0, 0, 0],\n",
       " [1.2857092946224191, 0, 0, 0, 0],\n",
       " [0.5632620434308675, 0.496338724228668, 0.30414143566677626, 0, 0],\n",
       " [0.4410887303893213, 0, 0.5450425009614592, 0, 0.25579152240808334],\n",
       " [0.5837962573423565, 0, 0.33213397915788734, 0, 0],\n",
       " [0.5450550573946431,\n",
       "  0.2681132346127357,\n",
       "  0.5674997344375203,\n",
       "  0.283514782723881,\n",
       "  0.3189868992847883],\n",
       " [0, 0, 0, 0, 0],\n",
       " [0.28654446951635865, 0.2733633924942378, 0.3161918751804474, 0, 0],\n",
       " [0, 0, 0, 0, 0],\n",
       " [1.258955276874805,\n",
       "  0.31267590883653856,\n",
       "  0.28131567997558926,\n",
       "  0,\n",
       "  0.2951550812475443],\n",
       " [0.2589552768748049,\n",
       "  0.26468313000785404,\n",
       "  0.3232802114675245,\n",
       "  0,\n",
       "  0.2951550812475443],\n",
       " [0.25387838757482256, 0, 0.2896527630959735, 0, 0],\n",
       " [0, 0.2607157542828518, 0, 0, 0],\n",
       " [0, 0.6253518176730771, 0.835182854615397, 0, 0],\n",
       " [0.28210454829698395, 0, 0.2675135717068193, 0, 0],\n",
       " [0.2512564676971948, 0.7524830313392952, 0.267026400225101, 0, 0],\n",
       " [0.29617389978169234, 0, 0.35326307490981884, 0, 0.32182611907023717],\n",
       " [0, 0.31267590883653856, 0.634578754885408, 0, 0],\n",
       " [0.29617389978169234, 0.496338724228668, 0, 0, 0],\n",
       " [0.2513610073093536, 0.7631473390025086, 1.164759371279539, 0, 0],\n",
       " [0.2513610073093536, 0, 0, 0, 0.2631393121830559],\n",
       " [0, 0.5733916631193904, 0.5790240148998256, 0, 0],\n",
       " [0.2513610073093536, 0, 0.26634018914696694, 0.30021608137151296, 0],\n",
       " [0, 0, 0.35326307490981884, 0, 0],\n",
       " [1.973220917974274, 1.1021984554622635, 0.9312256625041349, 0, 0],\n",
       " [0.8417642694447189, 0, 0, 0, 0.2951550812475443],\n",
       " [0,\n",
       "  0.2979909306838254,\n",
       "  0.5329931199003736,\n",
       "  0.2950629806944119,\n",
       "  0.26998294048850185],\n",
       " [0.29617389978169234, 0.30628913089851323, 0, 0, 0],\n",
       " [0.291404496284957, 0, 0, 0, 0.5262715775774456],\n",
       " [0.27266174155372985, 0.31067473214961155, 0, 0, 0],\n",
       " [0, 0.6042800615823386, 0.2654795481935543, 0, 0.26998294048850185],\n",
       " [0, 0.27368727541077154, 0.2937070432155614, 0, 0],\n",
       " [0.5503597731597619, 0, 0.2977083349242363, 0, 0.2951550812475443],\n",
       " [0.29617389978169234, 0, 0, 0, 0],\n",
       " [1.3837022989699466, 0.31067473214961155, 0.3042861697232078, 0, 0],\n",
       " [0.8108582299886133, 0, 1.0579157147506246, 0, 0.8282049420881308],\n",
       " [0, 0.8713825938032158, 0.5467952281691435, 0, 0.26998294048850185],\n",
       " [0.2513610073093536, 0, 0, 0, 0],\n",
       " [0.25707303796780484, 0, 0.656124114458658, 0, 0],\n",
       " [0.2589552768748049, 0, 0, 0, 0.5586700970786653],\n",
       " [0.29617389978169234, 0.2603224418893014, 0.5258023810127184, 0, 0],\n",
       " [0.29617389978169234, 0, 0, 0, 0],\n",
       " [0.28210454829698395, 0, 0.2591808795244523, 0, 0],\n",
       " [0,\n",
       "  0.32507146936433534,\n",
       "  1.3912719948991528,\n",
       "  0.2549956375761421,\n",
       "  0.2696445559596108],\n",
       " [0, 0, 0, 0, 0],\n",
       " [0.2513610073093536, 0, 0, 0, 0],\n",
       " [0, 0.37924637989235804, 0.3171571936515402, 0, 0],\n",
       " [0, 0.496338724228668, 0, 0, 0],\n",
       " [0.29617389978169234, 0, 0, 0, 0],\n",
       " [0.25707303796780484, 0, 0.3028610395488392, 0, 0],\n",
       " [0.5316621374529326, 0, 0.33213397915788734, 0, 0.2951550812475443],\n",
       " [0.5551291766564972, 0, 0, 0, 0.2951550812475443],\n",
       " [0, 0.496338724228668, 0, 0, 0],\n",
       " [0.2513610073093536, 0, 0, 0, 0],\n",
       " [0.2545729566191405,\n",
       "  0.27368727541077154,\n",
       "  0.55441494998221,\n",
       "  0,\n",
       "  0.25579152240808334],\n",
       " [0.3110893967642288, 0.27368727541077154, 0.2937070432155614, 0, 0],\n",
       " [0.2589552768748049, 0, 0, 0, 0.2951550812475443],\n",
       " [0.27266174155372985, 0.31067473214961155, 0, 0, 0],\n",
       " [0.547534907091046, 0, 0, 0, 0],\n",
       " [0.3110893967642288, 0.496338724228668, 0, 0, 0],\n",
       " [0, 0.496338724228668, 0, 0, 0],\n",
       " [0, 0, 0, 0, 0],\n",
       " [0, 0.27368727541077154, 0.2937070432155614, 0, 0],\n",
       " [0.2589552768748049, 0, 0, 0, 0.2951550812475443],\n",
       " [0.2746895518496567, 0, 0.3566836510381309, 0, 0],\n",
       " [0, 0.37924637989235804, 0.3171571936515402, 0, 0],\n",
       " [0, 0, 0, 0, 0],\n",
       " [0, 0, 0, 0, 0.3003283710341866],\n",
       " [0.2589552768748049, 0, 0, 0, 0.2951550812475443],\n",
       " [0, 0.37924637989235804, 0.3171571936515402, 0, 0],\n",
       " [0, 0, 0, 0, 0.3003283710341866],\n",
       " [0.27270686057812765, 0, 0.8954321771736747, 0, 0.3003283710341866],\n",
       " [0.5566709600099148, 0, 0, 0, 0],\n",
       " [0.5519572502698382, 0.5418005100235073, 0.6027701194369582, 0, 0],\n",
       " [0, 0.30628913089851323, 0, 0, 0],\n",
       " [0, 0.2522576142741331, 0.28613042315504916, 0, 0],\n",
       " [0.8351121456273123, 0.884066395269002, 0.28131567997558926, 0, 0],\n",
       " [0, 0, 0, 0, 0],\n",
       " [0, 0.2607157542828518, 0, 0, 0.2583836429998163],\n",
       " [0, 0, 0, 0, 0],\n",
       " [0, 0, 0, 0, 0],\n",
       " [0.2892717069064972, 0, 0.8311370182851459, 0, 0.3189868992847883],\n",
       " [0, 0, 0, 0, 0],\n",
       " [0, 0, 0.26070790676664857, 0, 0.25579152240808334],\n",
       " [1.6915815041140074, 0, 0, 0, 0.261340458376955],\n",
       " [0.2513610073093536, 0, 0, 0, 0],\n",
       " [0.2513610073093536, 0, 0.2607995276379, 0, 0],\n",
       " [0.6924497376986749, 0, 0.30754101261628164, 0, 0],\n",
       " [0, 0, 0.629980774983122, 0, 0],\n",
       " [0.25376079120883127,\n",
       "  0.5733916631193904,\n",
       "  0.28131567997558926,\n",
       "  0,\n",
       "  0.28390724140821094],\n",
       " [0.28210454829698395, 0, 0, 0, 0],\n",
       " [0.5547662898507137, 0.31067473214961155, 0, 0, 0],\n",
       " [1.0, 0, 0, 0, 0],\n",
       " [0, 0, 0, 0, 0],\n",
       " [0.2594198680071485, 0.2522576142741331, 0.28613042315504916, 0, 0],\n",
       " [0, 0, 0, 0, 0],\n",
       " [0, 0, 0, 0, 0],\n",
       " [0.25707303796780484, 0, 0.3028610395488392, 0, 0],\n",
       " [0.29617389978169234, 0, 0, 0, 0],\n",
       " [0.29353217230527323, 0.28462851678865647, 0, 0, 0],\n",
       " [0, 0.25253609418967543, 0.3963134403527512, 0, 0],\n",
       " [0, 0.6919222887288966, 0.5984728736271294, 0, 0],\n",
       " [0, 0.26969476977484463, 0.3290668287452684, 0, 0],\n",
       " [0, 0.32507146936433534, 0, 0.2549956375761421, 0],\n",
       " [0.25707303796780484, 0, 1.3610355064686237, 0, 0],\n",
       " [0, 0.5045152285482662, 0.5722608463100983, 0, 0],\n",
       " [0.5094480505994909, 0, 0, 0, 0.5564955396244993],\n",
       " [0.2589552768748049, 0, 0, 0, 0.2951550812475443],\n",
       " [0.25707303796780484, 0, 0.3028610395488392, 0, 0],\n",
       " [0.2513610073093536, 0, 0, 0, 0],\n",
       " [0.5551291766564972, 0.496338724228668, 0, 0, 0.2951550812475443],\n",
       " [0, 0.29364129689757124, 0.2675135717068193, 0, 0],\n",
       " [0.29617389978169234, 0.496338724228668, 0, 0, 0],\n",
       " [0, 0, 0, 0, 0],\n",
       " [0.6221787935284576, 0, 0, 0, 0],\n",
       " [0, 0, 0.2977083349242363, 0, 0]]"
      ]
     },
     "execution_count": 232,
     "metadata": {},
     "output_type": "execute_result"
    }
   ],
   "source": [
    "sentence_weight_list = []\n",
    "for string_list in df_pro['Nouns']:    \n",
    "    exec(\"loop_list = \" + string_list)\n",
    "    weight_list = []\n",
    "    for i in range(len(cat_list)):\n",
    "        weight_list.append(0)\n",
    "    for word in loop_list:\n",
    "        for i in range(len(cat_list)):\n",
    "            try:\n",
    "                #print (word)\n",
    "                similarity_score = get_word_similarity(word, cat_list[i])\n",
    "                if similarity_score > 0.25:\n",
    "                    weight_list[i] += similarity_score\n",
    "            except:\n",
    "                continue;\n",
    "        \n",
    "    #total_weight = sum(weight_list)\n",
    "    #if total_weight != 0:\n",
    "    #    weight_list = [weight / total_weight for weight in weight_list]\n",
    "    sentence_weight_list.append(weight_list)\n",
    "sentence_weight_list"
   ]
  },
  {
   "cell_type": "code",
   "execution_count": 233,
   "id": "f7f01a51",
   "metadata": {},
   "outputs": [
    {
     "data": {
      "text/html": [
       "<div>\n",
       "<style scoped>\n",
       "    .dataframe tbody tr th:only-of-type {\n",
       "        vertical-align: middle;\n",
       "    }\n",
       "\n",
       "    .dataframe tbody tr th {\n",
       "        vertical-align: top;\n",
       "    }\n",
       "\n",
       "    .dataframe thead th {\n",
       "        text-align: right;\n",
       "    }\n",
       "</style>\n",
       "<table border=\"1\" class=\"dataframe\">\n",
       "  <thead>\n",
       "    <tr style=\"text-align: right;\">\n",
       "      <th></th>\n",
       "      <th>space</th>\n",
       "      <th>personnel</th>\n",
       "      <th>social</th>\n",
       "      <th>cleanliness</th>\n",
       "      <th>distance</th>\n",
       "    </tr>\n",
       "  </thead>\n",
       "  <tbody>\n",
       "    <tr>\n",
       "      <th>0</th>\n",
       "      <td>0.502722</td>\n",
       "      <td>0.000000</td>\n",
       "      <td>0.267949</td>\n",
       "      <td>0.0</td>\n",
       "      <td>0.269645</td>\n",
       "    </tr>\n",
       "    <tr>\n",
       "      <th>1</th>\n",
       "      <td>1.000000</td>\n",
       "      <td>0.000000</td>\n",
       "      <td>0.000000</td>\n",
       "      <td>0.0</td>\n",
       "      <td>0.000000</td>\n",
       "    </tr>\n",
       "    <tr>\n",
       "      <th>2</th>\n",
       "      <td>0.000000</td>\n",
       "      <td>0.832439</td>\n",
       "      <td>0.279606</td>\n",
       "      <td>0.0</td>\n",
       "      <td>0.000000</td>\n",
       "    </tr>\n",
       "    <tr>\n",
       "      <th>3</th>\n",
       "      <td>0.000000</td>\n",
       "      <td>0.252258</td>\n",
       "      <td>0.286130</td>\n",
       "      <td>0.0</td>\n",
       "      <td>0.000000</td>\n",
       "    </tr>\n",
       "    <tr>\n",
       "      <th>4</th>\n",
       "      <td>0.514034</td>\n",
       "      <td>0.000000</td>\n",
       "      <td>0.000000</td>\n",
       "      <td>0.0</td>\n",
       "      <td>0.000000</td>\n",
       "    </tr>\n",
       "    <tr>\n",
       "      <th>...</th>\n",
       "      <td>...</td>\n",
       "      <td>...</td>\n",
       "      <td>...</td>\n",
       "      <td>...</td>\n",
       "      <td>...</td>\n",
       "    </tr>\n",
       "    <tr>\n",
       "      <th>154</th>\n",
       "      <td>0.000000</td>\n",
       "      <td>0.293641</td>\n",
       "      <td>0.267514</td>\n",
       "      <td>0.0</td>\n",
       "      <td>0.000000</td>\n",
       "    </tr>\n",
       "    <tr>\n",
       "      <th>155</th>\n",
       "      <td>0.296174</td>\n",
       "      <td>0.496339</td>\n",
       "      <td>0.000000</td>\n",
       "      <td>0.0</td>\n",
       "      <td>0.000000</td>\n",
       "    </tr>\n",
       "    <tr>\n",
       "      <th>156</th>\n",
       "      <td>0.000000</td>\n",
       "      <td>0.000000</td>\n",
       "      <td>0.000000</td>\n",
       "      <td>0.0</td>\n",
       "      <td>0.000000</td>\n",
       "    </tr>\n",
       "    <tr>\n",
       "      <th>157</th>\n",
       "      <td>0.622179</td>\n",
       "      <td>0.000000</td>\n",
       "      <td>0.000000</td>\n",
       "      <td>0.0</td>\n",
       "      <td>0.000000</td>\n",
       "    </tr>\n",
       "    <tr>\n",
       "      <th>158</th>\n",
       "      <td>0.000000</td>\n",
       "      <td>0.000000</td>\n",
       "      <td>0.297708</td>\n",
       "      <td>0.0</td>\n",
       "      <td>0.000000</td>\n",
       "    </tr>\n",
       "  </tbody>\n",
       "</table>\n",
       "<p>159 rows × 5 columns</p>\n",
       "</div>"
      ],
      "text/plain": [
       "        space  personnel    social  cleanliness  distance\n",
       "0    0.502722   0.000000  0.267949          0.0  0.269645\n",
       "1    1.000000   0.000000  0.000000          0.0  0.000000\n",
       "2    0.000000   0.832439  0.279606          0.0  0.000000\n",
       "3    0.000000   0.252258  0.286130          0.0  0.000000\n",
       "4    0.514034   0.000000  0.000000          0.0  0.000000\n",
       "..        ...        ...       ...          ...       ...\n",
       "154  0.000000   0.293641  0.267514          0.0  0.000000\n",
       "155  0.296174   0.496339  0.000000          0.0  0.000000\n",
       "156  0.000000   0.000000  0.000000          0.0  0.000000\n",
       "157  0.622179   0.000000  0.000000          0.0  0.000000\n",
       "158  0.000000   0.000000  0.297708          0.0  0.000000\n",
       "\n",
       "[159 rows x 5 columns]"
      ]
     },
     "execution_count": 233,
     "metadata": {},
     "output_type": "execute_result"
    }
   ],
   "source": [
    "df_new = pd.DataFrame(columns=cat_list, data=sentence_weight_list)\n",
    "df_new"
   ]
  },
  {
   "cell_type": "code",
   "execution_count": 234,
   "id": "32ef5ad5",
   "metadata": {},
   "outputs": [],
   "source": [
    "test_i = 0"
   ]
  },
  {
   "cell_type": "markdown",
   "id": "b7f8088e",
   "metadata": {},
   "source": [
    "test_i += 1\n",
    "print(df_pro['Review'].loc[test_i])\n",
    "print(df_new.loc[test_i])"
   ]
  },
  {
   "cell_type": "code",
   "execution_count": null,
   "id": "c547cfe1",
   "metadata": {},
   "outputs": [],
   "source": []
  },
  {
   "cell_type": "code",
   "execution_count": null,
   "id": "cfc2a460",
   "metadata": {},
   "outputs": [],
   "source": []
  }
 ],
 "metadata": {
  "kernelspec": {
   "display_name": "Python 3",
   "language": "python",
   "name": "python3"
  },
  "language_info": {
   "codemirror_mode": {
    "name": "ipython",
    "version": 3
   },
   "file_extension": ".py",
   "mimetype": "text/x-python",
   "name": "python",
   "nbconvert_exporter": "python",
   "pygments_lexer": "ipython3",
   "version": "3.8.8"
  }
 },
 "nbformat": 4,
 "nbformat_minor": 5
}
