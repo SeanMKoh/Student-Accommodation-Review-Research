{
 "cells": [
  {
   "cell_type": "code",
   "execution_count": 3,
   "id": "8c706572",
   "metadata": {},
   "outputs": [
    {
     "name": "stdout",
     "output_type": "stream",
     "text": [
      "Collecting vaderSentiment\n",
      "  Downloading vaderSentiment-3.3.2-py2.py3-none-any.whl (125 kB)\n",
      "Requirement already satisfied: requests in c:\\users\\seank\\anaconda3\\lib\\site-packages (from vaderSentiment) (2.25.1)\n",
      "Requirement already satisfied: certifi>=2017.4.17 in c:\\users\\seank\\anaconda3\\lib\\site-packages (from requests->vaderSentiment) (2020.12.5)\n",
      "Requirement already satisfied: urllib3<1.27,>=1.21.1 in c:\\users\\seank\\anaconda3\\lib\\site-packages (from requests->vaderSentiment) (1.26.4)\n",
      "Requirement already satisfied: chardet<5,>=3.0.2 in c:\\users\\seank\\anaconda3\\lib\\site-packages (from requests->vaderSentiment) (4.0.0)\n",
      "Requirement already satisfied: idna<3,>=2.5 in c:\\users\\seank\\anaconda3\\lib\\site-packages (from requests->vaderSentiment) (2.10)\n",
      "Installing collected packages: vaderSentiment\n",
      "Successfully installed vaderSentiment-3.3.2\n"
     ]
    }
   ],
   "source": [
    "!pip install vaderSentiment"
   ]
  },
  {
   "cell_type": "code",
   "execution_count": 1,
   "id": "c48bb3f5",
   "metadata": {
    "scrolled": true
   },
   "outputs": [],
   "source": [
    "import pandas as pd\n",
    "from vaderSentiment.vaderSentiment import SentimentIntensityAnalyzer"
   ]
  },
  {
   "cell_type": "code",
   "execution_count": 2,
   "id": "f494d7ae",
   "metadata": {
    "scrolled": true
   },
   "outputs": [
    {
     "data": {
      "text/html": [
       "<div>\n",
       "<style scoped>\n",
       "    .dataframe tbody tr th:only-of-type {\n",
       "        vertical-align: middle;\n",
       "    }\n",
       "\n",
       "    .dataframe tbody tr th {\n",
       "        vertical-align: top;\n",
       "    }\n",
       "\n",
       "    .dataframe thead th {\n",
       "        text-align: right;\n",
       "    }\n",
       "</style>\n",
       "<table border=\"1\" class=\"dataframe\">\n",
       "  <thead>\n",
       "    <tr style=\"text-align: right;\">\n",
       "      <th></th>\n",
       "      <th>Accom</th>\n",
       "      <th>Review</th>\n",
       "    </tr>\n",
       "  </thead>\n",
       "  <tbody>\n",
       "    <tr>\n",
       "      <th>0</th>\n",
       "      <td>iQ Weaver Place</td>\n",
       "      <td>IQ weaver place has been an amazing place to r...</td>\n",
       "    </tr>\n",
       "    <tr>\n",
       "      <th>1</th>\n",
       "      <td>Julian Court</td>\n",
       "      <td>I am living in classic studio with a window fa...</td>\n",
       "    </tr>\n",
       "    <tr>\n",
       "      <th>2</th>\n",
       "      <td>Julian Court</td>\n",
       "      <td>I have a very nice experience staying in Julia...</td>\n",
       "    </tr>\n",
       "    <tr>\n",
       "      <th>3</th>\n",
       "      <td>Julian Court</td>\n",
       "      <td>As a self-contained studio apartment, Julian C...</td>\n",
       "    </tr>\n",
       "    <tr>\n",
       "      <th>4</th>\n",
       "      <td>Julian Court</td>\n",
       "      <td>I like the young lady in reception, she is alw...</td>\n",
       "    </tr>\n",
       "  </tbody>\n",
       "</table>\n",
       "</div>"
      ],
      "text/plain": [
       "             Accom                                             Review\n",
       "0  iQ Weaver Place  IQ weaver place has been an amazing place to r...\n",
       "1     Julian Court  I am living in classic studio with a window fa...\n",
       "2     Julian Court  I have a very nice experience staying in Julia...\n",
       "3     Julian Court  As a self-contained studio apartment, Julian C...\n",
       "4     Julian Court  I like the young lady in reception, she is alw..."
      ]
     },
     "execution_count": 2,
     "metadata": {},
     "output_type": "execute_result"
    }
   ],
   "source": [
    "df = pd.read_csv(\"https://raw.githubusercontent.com/SeanMKoh/Student-Accommodation-Review-Research/main/AccomReviewSample.csv\", index_col=0)\n",
    "df.drop_duplicates(subset=['Review'], inplace=True)\n",
    "df.head()"
   ]
  },
  {
   "cell_type": "code",
   "execution_count": 8,
   "id": "66e08c12",
   "metadata": {},
   "outputs": [
    {
     "data": {
      "text/html": [
       "<div>\n",
       "<style scoped>\n",
       "    .dataframe tbody tr th:only-of-type {\n",
       "        vertical-align: middle;\n",
       "    }\n",
       "\n",
       "    .dataframe tbody tr th {\n",
       "        vertical-align: top;\n",
       "    }\n",
       "\n",
       "    .dataframe thead th {\n",
       "        text-align: right;\n",
       "    }\n",
       "</style>\n",
       "<table border=\"1\" class=\"dataframe\">\n",
       "  <thead>\n",
       "    <tr style=\"text-align: right;\">\n",
       "      <th></th>\n",
       "      <th>Review</th>\n",
       "      <th>Nouns</th>\n",
       "    </tr>\n",
       "  </thead>\n",
       "  <tbody>\n",
       "    <tr>\n",
       "      <th>0</th>\n",
       "      <td>iq weaver place has been an amazing place to r...</td>\n",
       "      <td>['iq', 'weaver', 'place', 'place', 'while']</td>\n",
       "    </tr>\n",
       "    <tr>\n",
       "      <th>1</th>\n",
       "      <td>moved here in september and spent most of lock...</td>\n",
       "      <td>['lockdown', 'space']</td>\n",
       "    </tr>\n",
       "    <tr>\n",
       "      <th>2</th>\n",
       "      <td>amazing on site staff who are always ready and...</td>\n",
       "      <td>['site', 'staff', 'type', 'assistance']</td>\n",
       "    </tr>\n",
       "    <tr>\n",
       "      <th>3</th>\n",
       "      <td>would definitely recommend staying here for un...</td>\n",
       "      <td>['students', 'book', 'accommodation']</td>\n",
       "    </tr>\n",
       "    <tr>\n",
       "      <th>4</th>\n",
       "      <td>i am living in classic studio with a window fa...</td>\n",
       "      <td>['i', 'studio', 'window', 'facing']</td>\n",
       "    </tr>\n",
       "  </tbody>\n",
       "</table>\n",
       "</div>"
      ],
      "text/plain": [
       "                                              Review  \\\n",
       "0  iq weaver place has been an amazing place to r...   \n",
       "1  moved here in september and spent most of lock...   \n",
       "2  amazing on site staff who are always ready and...   \n",
       "3  would definitely recommend staying here for un...   \n",
       "4  i am living in classic studio with a window fa...   \n",
       "\n",
       "                                         Nouns  \n",
       "0  ['iq', 'weaver', 'place', 'place', 'while']  \n",
       "1                        ['lockdown', 'space']  \n",
       "2      ['site', 'staff', 'type', 'assistance']  \n",
       "3        ['students', 'book', 'accommodation']  \n",
       "4          ['i', 'studio', 'window', 'facing']  "
      ]
     },
     "execution_count": 8,
     "metadata": {},
     "output_type": "execute_result"
    }
   ],
   "source": [
    "df_sample = pd.read_csv(\"https://raw.githubusercontent.com/SeanMKoh/Student-Accommodation-Review-Research/main/WordTagging.csv\", index_col=0)\n",
    "df_sample.head()"
   ]
  },
  {
   "cell_type": "code",
   "execution_count": 16,
   "id": "83d4b12f",
   "metadata": {},
   "outputs": [
    {
     "name": "stdout",
     "output_type": "stream",
     "text": [
      "the staff here are really friendly and helpful\n",
      "{'neg': 0.0, 'neu': 0.478, 'pos': 0.522, 'compound': 0.762}\n"
     ]
    }
   ],
   "source": [
    "sentence = df_sample['Review'].loc[19]\n",
    "vs = analyzer.polarity_scores(sentence)\n",
    "print(sentence)\n",
    "print(vs)"
   ]
  },
  {
   "cell_type": "code",
   "execution_count": 10,
   "id": "0ee2e8a5",
   "metadata": {},
   "outputs": [
    {
     "name": "stdout",
     "output_type": "stream",
     "text": [
      "IQ weaver place has been an amazing place to reside in while at uni. Moved here in September and spent most of lockdown within my flat space. Amazing on site staff who are always ready and enthusiastic to provide any type of assistance required. Would definitely recommend staying here for uni students looking to book accommodation! {'neg': 0.0, 'neu': 0.727, 'pos': 0.273, 'compound': 0.9571}\n"
     ]
    }
   ],
   "source": [
    "analyzer = SentimentIntensityAnalyzer()\n",
    "sentence = df['Review'].loc[0]\n",
    "vs = analyzer.polarity_scores(sentence)\n",
    "print (\"{:-<65} {}\".format(sentence, str(vs)))\n",
    "\n",
    "def analyze_list(text_list):\n",
    "    output_list = []\n",
    "    for text in text_list:\n",
    "        vs = analyzer.polarity_scores(text)\n",
    "        output_list.append(vs['compound'])\n",
    "    return output_list"
   ]
  },
  {
   "cell_type": "code",
   "execution_count": 5,
   "id": "271e3b8d",
   "metadata": {},
   "outputs": [
    {
     "data": {
      "text/html": [
       "<div>\n",
       "<style scoped>\n",
       "    .dataframe tbody tr th:only-of-type {\n",
       "        vertical-align: middle;\n",
       "    }\n",
       "\n",
       "    .dataframe tbody tr th {\n",
       "        vertical-align: top;\n",
       "    }\n",
       "\n",
       "    .dataframe thead th {\n",
       "        text-align: right;\n",
       "    }\n",
       "</style>\n",
       "<table border=\"1\" class=\"dataframe\">\n",
       "  <thead>\n",
       "    <tr style=\"text-align: right;\">\n",
       "      <th></th>\n",
       "      <th>Accom</th>\n",
       "      <th>Review</th>\n",
       "      <th>Compound_Score</th>\n",
       "    </tr>\n",
       "  </thead>\n",
       "  <tbody>\n",
       "    <tr>\n",
       "      <th>0</th>\n",
       "      <td>iQ Weaver Place</td>\n",
       "      <td>IQ weaver place has been an amazing place to r...</td>\n",
       "      <td>0.9571</td>\n",
       "    </tr>\n",
       "    <tr>\n",
       "      <th>1</th>\n",
       "      <td>Julian Court</td>\n",
       "      <td>I am living in classic studio with a window fa...</td>\n",
       "      <td>0.9709</td>\n",
       "    </tr>\n",
       "    <tr>\n",
       "      <th>2</th>\n",
       "      <td>Julian Court</td>\n",
       "      <td>I have a very nice experience staying in Julia...</td>\n",
       "      <td>0.9717</td>\n",
       "    </tr>\n",
       "    <tr>\n",
       "      <th>3</th>\n",
       "      <td>Julian Court</td>\n",
       "      <td>As a self-contained studio apartment, Julian C...</td>\n",
       "      <td>0.8737</td>\n",
       "    </tr>\n",
       "    <tr>\n",
       "      <th>4</th>\n",
       "      <td>Julian Court</td>\n",
       "      <td>I like the young lady in reception, she is alw...</td>\n",
       "      <td>0.6597</td>\n",
       "    </tr>\n",
       "  </tbody>\n",
       "</table>\n",
       "</div>"
      ],
      "text/plain": [
       "             Accom                                             Review  \\\n",
       "0  iQ Weaver Place  IQ weaver place has been an amazing place to r...   \n",
       "1     Julian Court  I am living in classic studio with a window fa...   \n",
       "2     Julian Court  I have a very nice experience staying in Julia...   \n",
       "3     Julian Court  As a self-contained studio apartment, Julian C...   \n",
       "4     Julian Court  I like the young lady in reception, she is alw...   \n",
       "\n",
       "   Compound_Score  \n",
       "0          0.9571  \n",
       "1          0.9709  \n",
       "2          0.9717  \n",
       "3          0.8737  \n",
       "4          0.6597  "
      ]
     },
     "execution_count": 5,
     "metadata": {},
     "output_type": "execute_result"
    }
   ],
   "source": [
    "sentiment_list = analyze_list(df['Review'])\n",
    "df['Compound_Score'] = sentiment_list\n",
    "df.head()"
   ]
  },
  {
   "cell_type": "code",
   "execution_count": 96,
   "id": "b6e22444",
   "metadata": {},
   "outputs": [],
   "source": [
    "index = df.index\n",
    "#Find max and min index\n",
    "max_index = index[df['Compound_Score'] == df['Compound_Score'].max()].tolist()[0]\n",
    "min_index = index[df['Compound_Score'] == df['Compound_Score'].min()].tolist()[0]\n",
    "\n",
    "#Find netural index\n",
    "if (df['Compound_Score'] == df['Compound_Score'].abs().min()).any():\n",
    "    neu_index = index[df['Compound_Score'] == df['Compound_Score'].abs().min()].tolist()[0]\n",
    "else:\n",
    "    neu_index = index[df['Compound_Score'] == -df['Compound_Score'].abs().min()].tolist()[0]\n"
   ]
  },
  {
   "cell_type": "code",
   "execution_count": 97,
   "id": "686b96b2",
   "metadata": {},
   "outputs": [
    {
     "name": "stdout",
     "output_type": "stream",
     "text": [
      "Maximum Compound_Score: 0.9913\n",
      "Review: If you want to live in an accomondation in the heart of the city centre then this is your place!! The room is excellent with all the necessary tools to live so there is no need to buy anything!! Toilet is good but a bit small!! Heating during the winter is great and can keep u warm!! The desk for you to study is large, with enough space to put your books and computer!! The staff is friendly, kind (especially the manager of the building and always ready to help even during the night!! The only thing that needs an update is the social spaces(more games, spaces to play and engage with each other etc) in the accomondation and more social events in order for all of us to get to know each other!!Finally, since the building is in the city centre you can confortably explore the city's day and night (social) life with a nice selection of cafes, restaurants and bars (all of them are very close from the accomondation on foot)\n"
     ]
    }
   ],
   "source": [
    "print('Maximum Compound_Score: ' \n",
    "      + str(df.loc[max_index]['Compound_Score'])\n",
    "     )\n",
    "print('Review: '\n",
    "      + str(df.loc[max_index]['Review'])\n",
    "     )"
   ]
  },
  {
   "cell_type": "code",
   "execution_count": 98,
   "id": "967f782a",
   "metadata": {},
   "outputs": [
    {
     "name": "stdout",
     "output_type": "stream",
     "text": [
      "Minimum Compound_Score: -0.8301\n",
      "Review: During lockdown, students were forced to pay full rent with no discount. Most student accommodations in the UK did however AXO would not allow it. That is the biggest complain\n"
     ]
    }
   ],
   "source": [
    "print('Minimum Compound_Score: ' \n",
    "      + str(df.loc[min_index]['Compound_Score'])\n",
    "     )\n",
    "print('Review: '\n",
    "      + str(df.loc[min_index]['Review'])\n",
    "     )"
   ]
  },
  {
   "cell_type": "code",
   "execution_count": 99,
   "id": "d82e044e",
   "metadata": {},
   "outputs": [
    {
     "name": "stdout",
     "output_type": "stream",
     "text": [
      "Most Neutral Compound_Score: -0.0385\n",
      "Review: Fine for location.Rooms are spacious but toilets are dated.Staff are there all the time and everything is ready to stay so no need to buy anything\n"
     ]
    }
   ],
   "source": [
    "print('Most Neutral Compound_Score: ' \n",
    "      + str(df.loc[neu_index]['Compound_Score'])\n",
    "     )\n",
    "print('Review: '\n",
    "      + str(df.loc[neu_index]['Review'])\n",
    "     )"
   ]
  }
 ],
 "metadata": {
  "kernelspec": {
   "display_name": "Python 3",
   "language": "python",
   "name": "python3"
  },
  "language_info": {
   "codemirror_mode": {
    "name": "ipython",
    "version": 3
   },
   "file_extension": ".py",
   "mimetype": "text/x-python",
   "name": "python",
   "nbconvert_exporter": "python",
   "pygments_lexer": "ipython3",
   "version": "3.8.8"
  }
 },
 "nbformat": 4,
 "nbformat_minor": 5
}
